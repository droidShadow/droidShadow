{
 "cells": [
  {
   "cell_type": "code",
   "execution_count": 1,
   "metadata": {},
   "outputs": [
    {
     "name": "stdout",
     "output_type": "stream",
     "text": [
      "Enter a 1st number :12\n",
      "Enter the 2nd number:54\n",
      "Enter the operation:+\n",
      "12 + 54 = 66\n"
     ]
    }
   ],
   "source": [
    "def calc(a,b,op):\n",
    "    if op not in '+-*/':\n",
    "        print (\"Enter valid operation character\")\n",
    "    if op == '+':\n",
    "\n",
    "        return (str(a)+' '+ op + ' ' +str (b)+ ' = '+ str(a+b))\n",
    "    \n",
    "    if op == '-':\n",
    "        return (str(a)+' '+ op + ' ' + str(b)+ ' = ' +str(a-b))\n",
    "    \n",
    "    if op == '*':\n",
    "        return (str(a)+' '+ op + ' ' + str(b)+ ' = ' +str(a*b))\n",
    "    \n",
    "    if op == '/':\n",
    "        return (str(a)+' '+ op + ' ' + str(b)+ ' = ' +str(a/b))\n",
    "    \n",
    "def main():\n",
    "    a=int(input(\"Enter a 1st number :\"))\n",
    "    b=int(input(\"Enter the 2nd number:\"))\n",
    "    op=input(\"Enter the operation:\")\n",
    "    print(calc(a,b,op))\n",
    "    \n",
    "if __name__ == '__main__':\n",
    "    main()"
   ]
  },
  {
   "cell_type": "code",
   "execution_count": null,
   "metadata": {},
   "outputs": [],
   "source": []
  }
 ],
 "metadata": {
  "kernelspec": {
   "display_name": "Python 3",
   "language": "python",
   "name": "python3"
  },
  "language_info": {
   "codemirror_mode": {
    "name": "ipython",
    "version": 3
   },
   "file_extension": ".py",
   "mimetype": "text/x-python",
   "name": "python",
   "nbconvert_exporter": "python",
   "pygments_lexer": "ipython3",
   "version": "3.7.6"
  }
 },
 "nbformat": 4,
 "nbformat_minor": 4
}
